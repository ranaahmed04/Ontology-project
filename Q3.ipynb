{
 "cells": [
  {
   "cell_type": "code",
   "execution_count": 15,
   "metadata": {},
   "outputs": [],
   "source": [
    "from rdflib.graph import Graph,URIRef,RDF\n",
    "from rdflib import Namespace, RDF\n",
    "import owlrl"
   ]
  },
  {
   "cell_type": "code",
   "execution_count": 17,
   "metadata": {},
   "outputs": [
    {
     "name": "stdout",
     "output_type": "stream",
     "text": [
      "Actors and Subclasses:\n",
      "JohnTravolta\n",
      "UmaThurman\n",
      "ChristianBale\n",
      "AnthonyHopkins\n",
      "BongJoonHo\n",
      "DavidFincher\n",
      "AlPacino\n",
      "HarveyKeitel\n",
      "RobertoBenigni\n",
      "QuentinTarantino\n",
      "BradPitt\n"
     ]
    }
   ],
   "source": [
    "\n",
    "# Load the ontology\n",
    "g = Graph()\n",
    "g.parse(\"FinalNewRdfXml.rdf\", format=\"xml\")\n",
    "\n",
    "# Apply OWL reasoning\n",
    "owlrl.OWLRL_Semantics(g,axioms=True, daxioms=True)\n",
    "\n",
    "# Define namespaces\n",
    "onto = Namespace(\"http://www.semanticweb.org/ranaahmed/ontologies/2024/4/Movei-Project/\")\n",
    "\n",
    "# Initialize a set to collect all actors and their subclasses\n",
    "actors_and_subclasses = set()\n",
    "\n",
    "# Function to traverse subclass hierarchy and collect actors\n",
    "def traverse_subclasses(class_uri):\n",
    "    # Get all direct subclasses of the given class\n",
    "    subclasses = set(g.subjects(RDF.type, class_uri))\n",
    "    # Add the current class and its subclasses to the set\n",
    "    actors_and_subclasses.update(subclasses)\n",
    "    # Recursively traverse each subclass\n",
    "    for subclass in subclasses:\n",
    "        traverse_subclasses(subclass)\n",
    "\n",
    "# Start traversing the subclass hierarchy from the Actor class\n",
    "traverse_subclasses(onto.Actor)\n",
    "\n",
    "# Display all actors and their subclasses\n",
    "print(\"Actors and Subclasses:\")\n",
    "for actor in actors_and_subclasses:\n",
    "    print(actor.split('/')[-1])\n"
   ]
  }
 ],
 "metadata": {
  "kernelspec": {
   "display_name": "Python 3",
   "language": "python",
   "name": "python3"
  },
  "language_info": {
   "codemirror_mode": {
    "name": "ipython",
    "version": 3
   },
   "file_extension": ".py",
   "mimetype": "text/x-python",
   "name": "python",
   "nbconvert_exporter": "python",
   "pygments_lexer": "ipython3",
   "version": "3.11.0"
  }
 },
 "nbformat": 4,
 "nbformat_minor": 2
}
