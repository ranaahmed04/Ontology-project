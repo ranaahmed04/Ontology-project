{
 "cells": [
  {
   "cell_type": "markdown",
   "metadata": {},
   "source": [
    "### Q2 Create a java program (Jena2.java) that loads the ontology and displays all the Persons (using a query, without inference). Create the used query in text file under the data folder."
   ]
  },
  {
   "cell_type": "code",
   "execution_count": 23,
   "metadata": {},
   "outputs": [
    {
     "name": "stdout",
     "output_type": "stream",
     "text": [
      "Persons: \n",
      "Person: AlPacino\n",
      "Person: AnthonyHopkins\n",
      "Person: BongJoonHo\n",
      "Person: BradPitt\n",
      "Person: ChristianBale\n",
      "Person: DavidFincher\n",
      "Person: HarveyKeitel\n",
      "Person: JohnTravolta\n",
      "Person: QuentinTarantino\n",
      "Person: RobertoBenigni\n",
      "Person: UmaThurman\n",
      "Person: BongJoonHo\n",
      "Person: ChristopherNolan\n",
      "Person: ChuckPalahniuk\n",
      "Person: GuyRitchie\n",
      "Person: JonathanDemme\n",
      "Person: MichaelMann\n",
      "Person: NicolaPiovani\n",
      "Person: QuentinTarantino\n",
      "Person: UmaThurman\n",
      "Person: BongJoonHo\n",
      "Person: ChristopherNolan\n",
      "Person: DavidFincher\n",
      "Person: GuyRitchie\n",
      "Person: JonathanDemme\n",
      "Person: MichaelMann\n",
      "Person: QuentinTarantino\n",
      "Person: RobertoBenigni\n",
      "Number of Persons: 28\n"
     ]
    }
   ],
   "source": [
    "from rdflib import Graph, Namespace\n",
    "\n",
    "# Load the ontology\n",
    "g = Graph()\n",
    "g.parse(r\"FinalNewRdfXml.rdf\", format=\"xml\")\n",
    "\n",
    "# Define namespaces\n",
    "ns_movie = \"http://www.semanticweb.org/ranaahmed/ontologies/2024/4/Movei-Project/\"\n",
    "# SPARQL query to retrieve all individuals of Person and its subclasses\n",
    "query = \"\"\"\n",
    "PREFIX rdf: <http://www.w3.org/1999/02/22-rdf-syntax-ns#>\n",
    "PREFIX movie: <http://www.semanticweb.org/ranaahmed/ontologies/2024/4/Movei-Project/>\n",
    "\n",
    "SELECT ?person\n",
    "WHERE {\n",
    "    {?person rdf:type movie:Person .}\n",
    "    UNION\n",
    "    {?person rdf:type movie:Actor .}\n",
    "    UNION\n",
    "    {?person rdf:type movie:Writer .}\n",
    "    UNION\n",
    "    {?person rdf:type movie:Director .}\n",
    "}\n",
    "\"\"\"\n",
    "# Execute the SPARQL query\n",
    "results = g.query(query)\n",
    "\n",
    "# Print the URIs of all Persons and subclasses\n",
    "print(\"Persons: \")\n",
    "for row in results:\n",
    "    person_uri = str(row[\"person\"])\n",
    "    my_person =person_uri.split('/')[-1]\n",
    "    print(f\"Person: {my_person}\")\n",
    "\n",
    "print(\"Number of Persons:\", len(results))\n"
   ]
  }
 ],
 "metadata": {
  "kernelspec": {
   "display_name": "Python 3",
   "language": "python",
   "name": "python3"
  },
  "language_info": {
   "codemirror_mode": {
    "name": "ipython",
    "version": 3
   },
   "file_extension": ".py",
   "mimetype": "text/x-python",
   "name": "python",
   "nbconvert_exporter": "python",
   "pygments_lexer": "ipython3",
   "version": "3.11.0"
  }
 },
 "nbformat": 4,
 "nbformat_minor": 2
}
