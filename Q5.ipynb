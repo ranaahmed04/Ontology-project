{
 "cells": [
  {
   "cell_type": "code",
   "execution_count": 17,
   "metadata": {},
   "outputs": [
    {
     "name": "stdout",
     "output_type": "stream",
     "text": [
      "ActorDirectors:\n",
      "Actor & Director: BongJoonHo\n",
      "Actor & Director: QuentinTarantino\n",
      "Actor & Director: RobertoBenigni\n",
      "Actor & Director: DavidFincher\n"
     ]
    }
   ],
   "source": [
    "from rdflib import Graph, Namespace\n",
    "from rdflib.plugins.sparql import prepareUpdate\n",
    "from rdflib.plugins.sparql import prepareQuery\n",
    "\n",
    "# Load the ontology\n",
    "g = Graph()\n",
    "g.parse(\"FinalNewRdfXml.rdf\", format=\"xml\")\n",
    "\n",
    "# Define namespaces\n",
    "MOVIE = Namespace(\"http://www.semanticweb.org/ranaahmed/ontologies/2024/4/Movei-Project/\")\n",
    "\n",
    "# Define the rule for inferring ActorDirector individuals\n",
    "rule = \"\"\"\n",
    "    PREFIX rdf: <http://www.w3.org/1999/02/22-rdf-syntax-ns#>\n",
    "    PREFIX movie: <http://www.semanticweb.org/ranaahmed/ontologies/2024/4/Movei-Project/>\n",
    "\n",
    "    INSERT {\n",
    "        ?person rdf:type movie:ActorDirector .\n",
    "    }\n",
    "    WHERE {\n",
    "        ?person rdf:type movie:Actor .\n",
    "        ?person rdf:type movie:Director .\n",
    "    }\n",
    "\"\"\"\n",
    "\n",
    "# Apply the rule using SPARQL INSERT query\n",
    "update_query = prepareUpdate(rule)\n",
    "g.update(update_query)\n",
    "\n",
    "# Query and print all individuals inferred as ActorDirectors\n",
    "query = prepareQuery(\n",
    "    \"\"\"\n",
    "    PREFIX rdf: <http://www.w3.org/1999/02/22-rdf-syntax-ns#>\n",
    "    PREFIX movie: <http://www.semanticweb.org/ranaahmed/ontologies/2024/4/Movei-Project/>\n",
    "    \n",
    "    SELECT ?person\n",
    "    WHERE {\n",
    "        ?person rdf:type movie:ActorDirector .\n",
    "    }\n",
    "    \"\"\"\n",
    ")\n",
    "# Execute the SPARQL query\n",
    "results = g.query(query)\n",
    "\n",
    "print(\"ActorDirectors:\")\n",
    "for row in results:\n",
    "\n",
    "    ActorDirector_uri = str(row[\"person\"])\n",
    "    director_name = ActorDirector_uri.split('/')[-1] \n",
    "    print(f\"Actor & Director: {director_name}\")\n"
   ]
  }
 ],
 "metadata": {
  "kernelspec": {
   "display_name": "Python 3",
   "language": "python",
   "name": "python3"
  },
  "language_info": {
   "codemirror_mode": {
    "name": "ipython",
    "version": 3
   },
   "file_extension": ".py",
   "mimetype": "text/x-python",
   "name": "python",
   "nbconvert_exporter": "python",
   "pygments_lexer": "ipython3",
   "version": "3.11.0"
  }
 },
 "nbformat": 4,
 "nbformat_minor": 2
}
