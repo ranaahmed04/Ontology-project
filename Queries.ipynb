{
 "cells": [
  {
   "cell_type": "code",
   "execution_count": 1,
   "metadata": {},
   "outputs": [],
   "source": [
    "from rdflib import Graph\n",
    "\n",
    "# Create a Graph object\n",
    "g = Graph()\n",
    "\n",
    "# Parse your RDF data\n",
    "g.parse(r\"FinalNewRdfXml.rdf\")  # Replace the path with the actual path to your RDF file\n",
    "# Define the namespace prefix for your ontology\n",
    "ns_movie = \"http://www.semanticweb.org/ranaahmed/ontologies/2024/4/Movei-Project/\""
   ]
  },
  {
   "cell_type": "markdown",
   "metadata": {},
   "source": [
    "### Query 1\n",
    "#### List the instances of the class Actor"
   ]
  },
  {
   "cell_type": "code",
   "execution_count": 2,
   "metadata": {},
   "outputs": [
    {
     "name": "stdout",
     "output_type": "stream",
     "text": [
      "Instances of the class actor:\n",
      "Actor: AlPacino\n",
      "Actor: AnthonyHopkins\n",
      "Actor: BongJoonHo\n",
      "Actor: BradPitt\n",
      "Actor: ChristianBale\n",
      "Actor: DavidFincher\n",
      "Actor: HarveyKeitel\n",
      "Actor: JohnTravolta\n",
      "Actor: QuentinTarantino\n",
      "Actor: RobertoBenigni\n",
      "Actor: UmaThurman\n"
     ]
    }
   ],
   "source": [
    "# Define the SPARQL query\n",
    "query = \"\"\"\n",
    "PREFIX rdf: <http://www.w3.org/1999/02/22-rdf-syntax-ns#>\n",
    "PREFIX movie: <http://www.semanticweb.org/ranaahmed/ontologies/2024/4/Movei-Project/>\n",
    "\n",
    "SELECT ?actor\n",
    "WHERE {\n",
    "    ?actor rdf:type movie:Actor .\n",
    "}\n",
    "\"\"\"\n",
    "\n",
    "# Execute the SPARQL query\n",
    "results = g.query(query)\n",
    "\n",
    "# Print the results\n",
    "print(\"Instances of the class actor:\")\n",
    "for row in results:\n",
    "    actor_uri = str(row[\"actor\"])\n",
    "    actor_name = actor_uri.split('/')[-1]  # Get the last part of the URI after the last '/'\n",
    "    print(f\"Actor: {actor_name}\")"
   ]
  },
  {
   "cell_type": "markdown",
   "metadata": {},
   "source": [
    "### Query 2 \n",
    "#### List the instances of the class writer"
   ]
  },
  {
   "cell_type": "code",
   "execution_count": 3,
   "metadata": {},
   "outputs": [
    {
     "name": "stdout",
     "output_type": "stream",
     "text": [
      "Instances of the class Writer:\n",
      "Writer: BongJoonHo\n",
      "Writer: ChristopherNolan\n",
      "Writer: ChuckPalahniuk\n",
      "Writer: GuyRitchie\n",
      "Writer: JonathanDemme\n",
      "Writer: MichaelMann\n",
      "Writer: NicolaPiovani\n",
      "Writer: QuentinTarantino\n",
      "Writer: UmaThurman\n"
     ]
    }
   ],
   "source": [
    "# Define the SPARQL query to list all instances of the class \"Writer\"\n",
    "query2 = \"\"\"\n",
    "PREFIX rdf: <http://www.w3.org/1999/02/22-rdf-syntax-ns#>\n",
    "PREFIX movie: <http://www.semanticweb.org/ranaahmed/ontologies/2024/4/Movei-Project/>\n",
    "\n",
    "SELECT ?writer\n",
    "WHERE {\n",
    "    ?writer rdf:type movie:Writer .\n",
    "}\n",
    "\"\"\"\n",
    "\n",
    "# Execute the SPARQL query\n",
    "results2 = g.query(query2)\n",
    "\n",
    "# Print the results\n",
    "print(\"Instances of the class Writer:\")\n",
    "for row in results2:\n",
    "    writer_uri = str(row[\"writer\"])\n",
    "    writer_name = writer_uri.split('/')[-1]  # Get the last part of the URI after the last '/'\n",
    "    print(f\"Writer: {writer_name}\")"
   ]
  },
  {
   "cell_type": "markdown",
   "metadata": {},
   "source": [
    "### Query 3 \n",
    "#### List the instances of the class director"
   ]
  },
  {
   "cell_type": "code",
   "execution_count": 4,
   "metadata": {},
   "outputs": [
    {
     "name": "stdout",
     "output_type": "stream",
     "text": [
      "Instances of the class Director:\n",
      "Director: BongJoonHo\n",
      "Director: ChristopherNolan\n",
      "Director: DavidFincher\n",
      "Director: GuyRitchie\n",
      "Director: JonathanDemme\n",
      "Director: MichaelMann\n",
      "Director: QuentinTarantino\n",
      "Director: RobertoBenigni\n"
     ]
    }
   ],
   "source": [
    "# Define the SPARQL query to list all instances of the class \"Director\"\n",
    "query3 = \"\"\"\n",
    "PREFIX rdf: <http://www.w3.org/1999/02/22-rdf-syntax-ns#>\n",
    "PREFIX movie: <http://www.semanticweb.org/ranaahmed/ontologies/2024/4/Movei-Project/>\n",
    "\n",
    "SELECT ?director\n",
    "WHERE {\n",
    "    ?director rdf:type movie:Director .\n",
    "}\n",
    "\"\"\"\n",
    "\n",
    "# Execute the SPARQL query\n",
    "results3 = g.query(query3)\n",
    "\n",
    "# Print the results\n",
    "print(\"Instances of the class Director:\")\n",
    "for row in results3:\n",
    "    director_uri = str(row[\"director\"])\n",
    "    director_name = director_uri.split('/')[-1]  # Get the last part of the URI after the last '/'\n",
    "    print(f\"Director: {director_name}\")"
   ]
  },
  {
   "cell_type": "markdown",
   "metadata": {},
   "source": [
    "### Query 4\n",
    "#### List the name of all Thriller movies. For each one, display its director."
   ]
  },
  {
   "cell_type": "code",
   "execution_count": 5,
   "metadata": {},
   "outputs": [
    {
     "name": "stdout",
     "output_type": "stream",
     "text": [
      "Thriller Movies and Their Directors:\n",
      "Movie Name: Pulp Fiction, Director: QuentinTarantino\n",
      "Movie Name: Kill Bill (volume 1), Director: QuentinTarantino\n",
      "Movie Name: The Silence Of The Lambs, Director: JonathanDemme\n",
      "Movie Name: Parasite, Director: BongJoonHo\n"
     ]
    }
   ],
   "source": [
    "# Define the SPARQL query to list the names of all Thriller movies and their directors\n",
    "query4 = \"\"\"\n",
    "PREFIX rdf: <http://www.w3.org/1999/02/22-rdf-syntax-ns#>\n",
    "PREFIX movie: <http://www.semanticweb.org/ranaahmed/ontologies/2024/4/Movei-Project/>\n",
    "\n",
    "SELECT ?movieTitle ?director\n",
    "WHERE {\n",
    "    ?movie rdf:type movie:Movie .\n",
    "    ?movie movie:hasGenre movie:Thriller .\n",
    "    ?movie movie:title ?movieTitle .\n",
    "    ?movie movie:hasDirector ?director .\n",
    "}\n",
    "\"\"\"\n",
    "\n",
    "# Execute the SPARQL query\n",
    "results4 = g.query(query4)\n",
    "\n",
    "# Print the results\n",
    "print(\"Thriller Movies and Their Directors:\")\n",
    "for row in results4:\n",
    "    movie_title = row[\"movieTitle\"]\n",
    "    director_uri = row[\"director\"]\n",
    "    director_name = director_uri.split('/')[-1]  # Extract the name from the URI\n",
    "    print(f\"Movie Name: {movie_title}, Director: {director_name}\")"
   ]
  },
  {
   "cell_type": "markdown",
   "metadata": {},
   "source": [
    "### Query 5 \n",
    "#### List the name of all Crime Thriller movies."
   ]
  },
  {
   "cell_type": "code",
   "execution_count": 6,
   "metadata": {},
   "outputs": [
    {
     "name": "stdout",
     "output_type": "stream",
     "text": [
      "Crime Thriller Movies:\n",
      "Movie Name: Pulp Fiction\n",
      "Movie Name: Kill Bill (volume 1)\n",
      "Movie Name: The Silence Of The Lambs\n"
     ]
    }
   ],
   "source": [
    "# Define the SPARQL query to list the names of all Crime Thriller movies\n",
    "query5 = \"\"\"\n",
    "PREFIX rdf: <http://www.w3.org/1999/02/22-rdf-syntax-ns#>\n",
    "PREFIX movie: <http://www.semanticweb.org/ranaahmed/ontologies/2024/4/Movei-Project/>\n",
    "\n",
    "SELECT ?movieTitle\n",
    "WHERE {\n",
    "    ?movie rdf:type movie:Movie .\n",
    "    ?movie movie:hasGenre movie:Crime .\n",
    "    ?movie movie:hasGenre movie:Thriller .\n",
    "    ?movie movie:title ?movieTitle .\n",
    "}\n",
    "\"\"\"\n",
    "\n",
    "# Execute the SPARQL query\n",
    "results5 = g.query(query5)\n",
    "\n",
    "# Print the results\n",
    "print(\"Crime Thriller Movies:\")\n",
    "for row in results5:\n",
    "    movie_title = row[\"movieTitle\"]\n",
    "    print(f\"Movie Name: {movie_title}\")"
   ]
  },
  {
   "cell_type": "markdown",
   "metadata": {},
   "source": [
    "### Query 6\n",
    "#### list the male actors in the movie in specific film"
   ]
  },
  {
   "cell_type": "code",
   "execution_count": 7,
   "metadata": {},
   "outputs": [
    {
     "name": "stdout",
     "output_type": "stream",
     "text": [
      "Male Actors in the movie 'The Dark Knight':\n",
      "Actor Name: Christian Bale\n"
     ]
    }
   ],
   "source": [
    "\n",
    "# Define the movie title\n",
    "movie_title = \"The Dark Knight\"\n",
    "# Define the SPARQL query to list the male actors in the specified movie\n",
    "query6 = f\"\"\"\n",
    "PREFIX rdf: <http://www.w3.org/1999/02/22-rdf-syntax-ns#>\n",
    "PREFIX movie: <http://www.semanticweb.org/ranaahmed/ontologies/2024/4/Movei-Project/>\n",
    "\n",
    "SELECT ?actorName\n",
    "WHERE {{\n",
    "    ?actor rdf:type movie:Actor .\n",
    "    ?actor movie:gender \"Male\" .\n",
    "    ?actor movie:name ?actorName .\n",
    "    ?movie rdf:type movie:Movie .\n",
    "    ?movie movie:title \"{movie_title}\" .\n",
    "    ?movie movie:hasActor ?actor .\n",
    "}}\n",
    "\"\"\"\n",
    "\n",
    "# Execute the SPARQL query\n",
    "results6 = g.query(query6)\n",
    "\n",
    "# Print the results\n",
    "print(f\"Male Actors in the movie '{movie_title}':\")\n",
    "for row in results6:\n",
    "    actor_name = row[\"actorName\"]\n",
    "    print(f\"Actor Name: {actor_name}\")"
   ]
  },
  {
   "cell_type": "markdown",
   "metadata": {},
   "source": [
    "### Query 7 \n",
    "#### How many movies have both \"Action\" and \"Thriller\" as genres?"
   ]
  },
  {
   "cell_type": "code",
   "execution_count": 8,
   "metadata": {},
   "outputs": [
    {
     "name": "stdout",
     "output_type": "stream",
     "text": [
      "Number of movies with both 'Action' and 'Thriller' genres: 1\n"
     ]
    }
   ],
   "source": [
    "# Define the SPARQL query to count movies with both \"Action\" and \"Thriller\" as genres\n",
    "query7 = \"\"\"\n",
    "PREFIX rdf: <http://www.w3.org/1999/02/22-rdf-syntax-ns#>\n",
    "PREFIX movie: <http://www.semanticweb.org/ranaahmed/ontologies/2024/4/Movei-Project/>\n",
    "\n",
    "SELECT (COUNT(?movie) AS ?count)\n",
    "WHERE {\n",
    "    ?movie rdf:type movie:Movie .\n",
    "    ?movie movie:hasGenre movie:Action .\n",
    "    ?movie movie:hasGenre movie:Thriller .\n",
    "}\n",
    "\"\"\"\n",
    "\n",
    "# Execute the SPARQL query\n",
    "results7 = g.query(query7)\n",
    "\n",
    "# Extract and print the count of movies with both \"Action\" and \"Thriller\" as genres\n",
    "for row in results7:\n",
    "    movie_count = row[\"count\"]\n",
    "    print(f\"Number of movies with both 'Action' and 'Thriller' genres: {movie_count}\")"
   ]
  },
  {
   "cell_type": "markdown",
   "metadata": {},
   "source": [
    "### Query 8 \n",
    "#### List all the movies written by a specific writer."
   ]
  },
  {
   "cell_type": "code",
   "execution_count": 9,
   "metadata": {},
   "outputs": [
    {
     "name": "stdout",
     "output_type": "stream",
     "text": [
      "Movies written by Christopher Nolan:\n",
      "- The Dark Knight\n"
     ]
    }
   ],
   "source": [
    "# Define the SPARQL query to list movies written by Christopher Nolan\n",
    "query8 = \"\"\"\n",
    "PREFIX rdf: <http://www.w3.org/1999/02/22-rdf-syntax-ns#>\n",
    "PREFIX movie: <http://www.semanticweb.org/ranaahmed/ontologies/2024/4/Movei-Project/>\n",
    "\n",
    "SELECT ?movieTitle\n",
    "WHERE {\n",
    "    ?movie rdf:type movie:Movie .\n",
    "    ?movie movie:hasWriter movie:ChristopherNolan .\n",
    "    ?movie movie:title ?movieTitle .\n",
    "}\n",
    "\"\"\"\n",
    "\n",
    "# Execute the SPARQL query\n",
    "results8 = g.query(query8)\n",
    "\n",
    "# Print the list of movies written by Christopher Nolan\n",
    "print(\"Movies written by Christopher Nolan:\")\n",
    "for row in results8:\n",
    "    movie_title = row[\"movieTitle\"]\n",
    "    print(f\"- {movie_title}\")"
   ]
  },
  {
   "cell_type": "markdown",
   "metadata": {},
   "source": [
    "### Query 9 \n",
    "#### Find movies with a certain language."
   ]
  },
  {
   "cell_type": "code",
   "execution_count": 10,
   "metadata": {},
   "outputs": [
    {
     "name": "stdout",
     "output_type": "stream",
     "text": [
      "Movies with English language:\n",
      "- Pulp Fiction\n",
      "- Kill Bill (volume 1)\n",
      "- The Dark Knight\n",
      "- FightClub\n",
      "- The Silence Of The Lambs\n",
      "- Heat\n",
      "- Snatch\n",
      "- Reservoir Dogs\n"
     ]
    }
   ],
   "source": [
    "# Define the SPARQL query to find movies with English language\n",
    "query9 = \"\"\"\n",
    "PREFIX rdf: <http://www.w3.org/1999/02/22-rdf-syntax-ns#>\n",
    "PREFIX movie: <http://www.semanticweb.org/ranaahmed/ontologies/2024/4/Movei-Project/>\n",
    "\n",
    "SELECT ?movieTitle\n",
    "WHERE {\n",
    "    ?movie rdf:type movie:Movie .\n",
    "    ?movie movie:language \"English\" .\n",
    "    ?movie movie:title ?movieTitle .\n",
    "}\n",
    "\"\"\"\n",
    "\n",
    "# Execute the SPARQL query\n",
    "results9 = g.query(query9)\n",
    "\n",
    "# Print the list of movies with English language\n",
    "print(\"Movies with English language:\")\n",
    "for row in results9:\n",
    "    movie_title = row[\"movieTitle\"]\n",
    "    print(f\"- {movie_title}\")"
   ]
  },
  {
   "cell_type": "markdown",
   "metadata": {},
   "source": [
    "### Query 10\n",
    "#### List the name of Actors older than 51 years."
   ]
  },
  {
   "cell_type": "code",
   "execution_count": 11,
   "metadata": {},
   "outputs": [
    {
     "name": "stdout",
     "output_type": "stream",
     "text": [
      "Actors older than 51 years:\n",
      "- Al Pacino\n",
      "- Anthony Hopkins\n",
      "- Bong Joon-ho\n",
      "- Brad Pitt\n",
      "- David Fincher\n",
      "- Harvey Keitel\n",
      "- John Travolta\n",
      "- Quentin Tarantino\n"
     ]
    }
   ],
   "source": [
    "# Define the SPARQL query to find actors older than 51 years\n",
    "query10 = \"\"\"\n",
    "PREFIX rdf: <http://www.w3.org/1999/02/22-rdf-syntax-ns#>\n",
    "PREFIX movie: <http://www.semanticweb.org/ranaahmed/ontologies/2024/4/Movei-Project/>\n",
    "\n",
    "SELECT ?actorName\n",
    "WHERE {\n",
    "    ?actor rdf:type movie:Actor .\n",
    "    ?actor movie:age ?age .\n",
    "    ?actor movie:name ?actorName .\n",
    "    FILTER (?age > 51)\n",
    "}\n",
    "\"\"\"\n",
    "\n",
    "# Execute the SPARQL query\n",
    "results10 = g.query(query10)\n",
    "\n",
    "# Print the names of actors older than 51 years\n",
    "print(\"Actors older than 51 years:\")\n",
    "for row in results10:\n",
    "    actor_name = row[\"actorName\"]\n",
    "    print(f\"- {actor_name}\")"
   ]
  },
  {
   "cell_type": "markdown",
   "metadata": {},
   "source": [
    "### Query 11\n",
    "#### A query that contains at least 2 Optional Graph Patterns"
   ]
  },
  {
   "cell_type": "code",
   "execution_count": 12,
   "metadata": {},
   "outputs": [
    {
     "name": "stdout",
     "output_type": "stream",
     "text": [
      "Movies along with their directors and actors:\n",
      "Movie: Pulp Fiction, Director: Quentin Tarantino, Actor: Quentin Tarantino\n",
      "Movie: Pulp Fiction, Director: Quentin Tarantino, Actor: Uma Thurman\n",
      "Movie: Life Is Beautiful, Director: Unknown, Actor: Unknown\n",
      "Movie: Kill Bill (volume 1), Director: Quentin Tarantino, Actor: Quentin Tarantino\n",
      "Movie: The Dark Knight, Director: Christopher Nolan, Actor: Christian Bale\n",
      "Movie: FightClub, Director: David Fincher, Actor: David Fincher\n",
      "Movie: The Silence Of The Lambs, Director: Jonathan Demme, Actor: Anthony Hopkins\n",
      "Movie: Heat, Director: Michael Mann, Actor: Al Pacino\n",
      "Movie: Snatch, Director: Guy Ritchie, Actor: Brad Pitt\n",
      "Movie: Reservoir Dogs, Director: Quentin Tarantino, Actor: Harvey Keitel\n",
      "Movie: Reservoir Dogs, Director: Quentin Tarantino, Actor: Quentin Tarantino\n",
      "Movie: Parasite, Director: Bong Joon-ho, Actor: Bong Joon-ho\n"
     ]
    }
   ],
   "source": [
    "# Define the SPARQL query\n",
    "query11 = \"\"\"\n",
    "PREFIX rdf: <http://www.w3.org/1999/02/22-rdf-syntax-ns#>\n",
    "PREFIX movie: <http://www.semanticweb.org/ranaahmed/ontologies/2024/4/Movei-Project/>\n",
    "\n",
    "SELECT ?movieName ?directorName ?actorName\n",
    "WHERE {\n",
    "  ?movie rdf:type movie:Movie ;\n",
    "         movie:title ?movieName .\n",
    "  OPTIONAL {\n",
    "    ?movie movie:hasDirector ?director .\n",
    "    ?director movie:name ?directorName .\n",
    "  }\n",
    "  OPTIONAL {\n",
    "    ?movie movie:hasActor ?actor .\n",
    "    ?actor movie:name ?actorName .\n",
    "  }\n",
    "}\n",
    "\"\"\"\n",
    "# Execute the SPARQL query\n",
    "results11 = g.query(query11)\n",
    "\n",
    "# Print the results\n",
    "print(\"Movies along with their directors and actors:\")\n",
    "for row in results11:\n",
    "    movie_name = row[\"movieName\"]\n",
    "    director_name = row[\"directorName\"] if row[\"directorName\"] else \"Unknown\"\n",
    "    actor_name = row[\"actorName\"] if row[\"actorName\"] else \"Unknown\"\n",
    "    print(f\"Movie: {movie_name}, Director: {director_name}, Actor: {actor_name}\")"
   ]
  },
  {
   "cell_type": "markdown",
   "metadata": {},
   "source": [
    "### Query 12\n",
    "#### A query that contains at least 2 alternatives and conjunctions"
   ]
  },
  {
   "cell_type": "code",
   "execution_count": 13,
   "metadata": {},
   "outputs": [
    {
     "name": "stdout",
     "output_type": "stream",
     "text": [
      "Movies with Action and Thriller or Crime and Thriller genres:\n",
      "Movie Name: Pulp Fiction, Genre: Crime\n",
      "Movie Name: Pulp Fiction, Genre: Thriller\n",
      "Movie Name: Kill Bill (volume 1), Genre: Action\n",
      "Movie Name: Kill Bill (volume 1), Genre: Crime\n",
      "Movie Name: Kill Bill (volume 1), Genre: Thriller\n",
      "Movie Name: The Silence Of The Lambs, Genre: Crime\n",
      "Movie Name: The Silence Of The Lambs, Genre: Drama\n",
      "Movie Name: The Silence Of The Lambs, Genre: Thriller\n"
     ]
    }
   ],
   "source": [
    "# Define the SPARQL query\n",
    "query12 = \"\"\"\n",
    "PREFIX rdf: <http://www.w3.org/1999/02/22-rdf-syntax-ns#>\n",
    "PREFIX movie: <http://www.semanticweb.org/ranaahmed/ontologies/2024/4/Movei-Project/>\n",
    "\n",
    "SELECT DISTINCT ?movieName ?genre\n",
    "WHERE {\n",
    "  ?movie rdf:type movie:Movie ;\n",
    "         movie:title ?movieName ;\n",
    "         movie:hasGenre ?genre .\n",
    "  {\n",
    "    ?movie movie:hasGenre movie:Action .\n",
    "    ?movie movie:hasGenre movie:Thriller .\n",
    "  }\n",
    "  UNION\n",
    "  {\n",
    "    ?movie movie:hasGenre movie:Crime .\n",
    "    ?movie movie:hasGenre movie:Thriller .\n",
    "  }\n",
    "}\n",
    "\"\"\"\n",
    "\n",
    "# Execute the SPARQL query\n",
    "results12 = g.query(query12)\n",
    "\n",
    "# Print the results\n",
    "print(\"Movies with Action and Thriller or Crime and Thriller genres:\")\n",
    "movies = set()\n",
    "for row in results12:\n",
    "    movie_name = str(row[\"movieName\"])\n",
    "    genre = str(row[\"genre\"].split(\"/\")[-1])\n",
    "    if (movie_name, genre) not in movies:\n",
    "        movies.add((movie_name, genre))\n",
    "        print(f\"Movie Name: {movie_name}, Genre: {genre}\")"
   ]
  },
  {
   "cell_type": "markdown",
   "metadata": {},
   "source": [
    "### Query 13\n",
    "#### A query that contains a CONSTRUCT query form"
   ]
  },
  {
   "cell_type": "code",
   "execution_count": 14,
   "metadata": {},
   "outputs": [
    {
     "name": "stdout",
     "output_type": "stream",
     "text": [
      "Subject: Movie8\n",
      "Predicate: hasDirector\n",
      "Object: QuentinTarantino\n",
      "------------------------\n",
      "Subject: Movie1\n",
      "Predicate: title\n",
      "Object: Pulp Fiction\n",
      "------------------------\n",
      "Subject: Movie5\n",
      "Predicate: hasGenre\n",
      "Object: Drama\n",
      "------------------------\n",
      "Subject: Movie1\n",
      "Predicate: hasGenre\n",
      "Object: Crime\n",
      "------------------------\n",
      "Subject: Movie8\n",
      "Predicate: hasGenre\n",
      "Object: Drama\n",
      "------------------------\n",
      "Subject: Movie4\n",
      "Predicate: hasGenre\n",
      "Object: Drama\n",
      "------------------------\n",
      "Subject: Movie1\n",
      "Predicate: hasDirector\n",
      "Object: QuentinTarantino\n",
      "------------------------\n",
      "Subject: Movie5\n",
      "Predicate: title\n",
      "Object: The Silence Of The Lambs\n",
      "------------------------\n",
      "Subject: Movie9\n",
      "Predicate: hasDirector\n",
      "Object: BongJoonHo\n",
      "------------------------\n",
      "Subject: Movie9\n",
      "Predicate: 22-rdf-syntax-ns#type\n",
      "Object: Movie\n",
      "------------------------\n",
      "Subject: Movie5\n",
      "Predicate: hasDirector\n",
      "Object: JonathanDemme\n",
      "------------------------\n",
      "Subject: Movie5\n",
      "Predicate: hasGenre\n",
      "Object: Thriller\n",
      "------------------------\n",
      "Subject: Movie4\n",
      "Predicate: title\n",
      "Object: FightClub\n",
      "------------------------\n",
      "Subject: Movie7\n",
      "Predicate: hasGenre\n",
      "Object: Comedy\n",
      "------------------------\n",
      "Subject: Movie2\n",
      "Predicate: title\n",
      "Object: Kill Bill (volume 1)\n",
      "------------------------\n",
      "Subject: Movie1\n",
      "Predicate: 22-rdf-syntax-ns#type\n",
      "Object: Movie\n",
      "------------------------\n",
      "Subject: Movie3\n",
      "Predicate: 22-rdf-syntax-ns#type\n",
      "Object: Movie\n",
      "------------------------\n",
      "Subject: Movie10\n",
      "Predicate: hasGenre\n",
      "Object: Comedy\n",
      "------------------------\n",
      "Subject: Movie9\n",
      "Predicate: hasGenre\n",
      "Object: Drama\n",
      "------------------------\n",
      "Subject: Movie3\n",
      "Predicate: hasGenre\n",
      "Object: Crime\n",
      "------------------------\n",
      "Subject: Movie6\n",
      "Predicate: hasGenre\n",
      "Object: Drama\n",
      "------------------------\n",
      "Subject: Movie2\n",
      "Predicate: hasGenre\n",
      "Object: Crime\n",
      "------------------------\n",
      "Subject: Movie7\n",
      "Predicate: hasDirector\n",
      "Object: GuyRitchie\n",
      "------------------------\n",
      "Subject: Movie9\n",
      "Predicate: hasGenre\n",
      "Object: Thriller\n",
      "------------------------\n",
      "Subject: Movie1\n",
      "Predicate: hasGenre\n",
      "Object: Thriller\n",
      "------------------------\n",
      "Subject: Movie2\n",
      "Predicate: 22-rdf-syntax-ns#type\n",
      "Object: Movie\n",
      "------------------------\n",
      "Subject: Movie7\n",
      "Predicate: 22-rdf-syntax-ns#type\n",
      "Object: Movie\n",
      "------------------------\n",
      "Subject: Movie3\n",
      "Predicate: hasDirector\n",
      "Object: ChristopherNolan\n",
      "------------------------\n",
      "Subject: Movie7\n",
      "Predicate: hasGenre\n",
      "Object: Crime\n",
      "------------------------\n",
      "Subject: Movie3\n",
      "Predicate: hasGenre\n",
      "Object: Action\n",
      "------------------------\n",
      "Subject: Movie2\n",
      "Predicate: hasGenre\n",
      "Object: Action\n",
      "------------------------\n",
      "Subject: Movie6\n",
      "Predicate: title\n",
      "Object: Heat\n",
      "------------------------\n",
      "Subject: Movie10\n",
      "Predicate: 22-rdf-syntax-ns#type\n",
      "Object: Movie\n",
      "------------------------\n",
      "Subject: Movie10\n",
      "Predicate: hasDirector\n",
      "Object: RobertoBenigni\n",
      "------------------------\n",
      "Subject: Movie6\n",
      "Predicate: hasGenre\n",
      "Object: Crime\n",
      "------------------------\n",
      "Subject: Movie2\n",
      "Predicate: hasDirector\n",
      "Object: QuentinTarantino\n",
      "------------------------\n",
      "Subject: Movie6\n",
      "Predicate: 22-rdf-syntax-ns#type\n",
      "Object: Movie\n",
      "------------------------\n",
      "Subject: Movie4\n",
      "Predicate: 22-rdf-syntax-ns#type\n",
      "Object: Movie\n",
      "------------------------\n",
      "Subject: Movie8\n",
      "Predicate: hasGenre\n",
      "Object: Crime\n",
      "------------------------\n",
      "Subject: Movie3\n",
      "Predicate: hasGenre\n",
      "Object: Drama\n",
      "------------------------\n",
      "Subject: Movie5\n",
      "Predicate: hasGenre\n",
      "Object: Crime\n",
      "------------------------\n",
      "Subject: Movie6\n",
      "Predicate: hasGenre\n",
      "Object: Action\n",
      "------------------------\n",
      "Subject: Movie8\n",
      "Predicate: title\n",
      "Object: Reservoir Dogs\n",
      "------------------------\n",
      "Subject: Movie4\n",
      "Predicate: hasDirector\n",
      "Object: DavidFincher\n",
      "------------------------\n",
      "Subject: Movie9\n",
      "Predicate: hasGenre\n",
      "Object: Comedy\n",
      "------------------------\n",
      "Subject: Movie2\n",
      "Predicate: hasGenre\n",
      "Object: Thriller\n",
      "------------------------\n",
      "Subject: Movie8\n",
      "Predicate: 22-rdf-syntax-ns#type\n",
      "Object: Movie\n",
      "------------------------\n",
      "Subject: Movie9\n",
      "Predicate: title\n",
      "Object: Parasite\n",
      "------------------------\n",
      "Subject: Movie5\n",
      "Predicate: 22-rdf-syntax-ns#type\n",
      "Object: Movie\n",
      "------------------------\n",
      "Subject: Movie3\n",
      "Predicate: title\n",
      "Object: The Dark Knight\n",
      "------------------------\n",
      "Subject: Movie10\n",
      "Predicate: hasGenre\n",
      "Object: Drama\n",
      "------------------------\n",
      "Subject: Movie6\n",
      "Predicate: hasDirector\n",
      "Object: MichaelMann\n",
      "------------------------\n",
      "Subject: Movie7\n",
      "Predicate: title\n",
      "Object: Snatch\n",
      "------------------------\n",
      "Subject: Movie10\n",
      "Predicate: title\n",
      "Object: Life Is Beautiful\n",
      "------------------------\n"
     ]
    }
   ],
   "source": [
    "# Define the CONSTRUCT query\n",
    "query13 = \"\"\"\n",
    "PREFIX rdf: <http://www.w3.org/1999/02/22-rdf-syntax-ns#>\n",
    "PREFIX movie: <http://www.semanticweb.org/ranaahmed/ontologies/2024/4/Movei-Project/>\n",
    "\n",
    "CONSTRUCT {\n",
    "  ?movie rdf:type movie:Movie ;\n",
    "         movie:title ?title ;\n",
    "         movie:hasDirector ?director ;\n",
    "         movie:hasGenre ?genre .\n",
    "}\n",
    "WHERE {\n",
    "  ?movie rdf:type movie:Movie ;\n",
    "         movie:title ?title ;\n",
    "         movie:hasDirector ?director ;\n",
    "         movie:hasGenre ?genre .\n",
    "}\n",
    "\"\"\"\n",
    "\n",
    "# Execute the query\n",
    "results13 = g.query(query13)\n",
    "\n",
    "# Iterate over the constructed triples and print the values\n",
    "for subject, predicate, obj in results13:\n",
    "    subject_name = subject.split(\"/\")[-1] if isinstance(subject, str) else subject\n",
    "    predicate_name = predicate.split(\"/\")[-1] if isinstance(predicate, str) else predicate\n",
    "    obj_name = obj.split(\"/\")[-1] if isinstance(obj, str) else obj\n",
    "    \n",
    "    print(f\"Subject: {subject_name}\")\n",
    "    print(f\"Predicate: {predicate_name}\")\n",
    "    print(f\"Object: {obj_name}\")\n",
    "    print(\"------------------------\")\n"
   ]
  },
  {
   "cell_type": "markdown",
   "metadata": {},
   "source": [
    "### Query 14 \n",
    "#### A query that contains an ASK query form"
   ]
  },
  {
   "cell_type": "code",
   "execution_count": 15,
   "metadata": {},
   "outputs": [
    {
     "name": "stdout",
     "output_type": "stream",
     "text": [
      "The query returned True: There exist movies with title and director information.\n"
     ]
    }
   ],
   "source": [
    "# Define the ASK query\n",
    "query14 = \"\"\"\n",
    "PREFIX rdf: <http://www.w3.org/1999/02/22-rdf-syntax-ns#>\n",
    "PREFIX movie: <http://www.semanticweb.org/ranaahmed/ontologies/2024/4/Movei-Project/>\n",
    "\n",
    "ASK {\n",
    "  ?movie rdf:type movie:Movie ;\n",
    "         movie:title ?title ;\n",
    "         movie:hasDirector ?director .\n",
    "}\n",
    "\"\"\"\n",
    "\n",
    "# Execute the query\n",
    "result14 = g.query(query14)\n",
    "\n",
    "# Check if the result is true or false\n",
    "if result14:\n",
    "    print(\"The query returned True: There exist movies with title and director information.\")\n",
    "else:\n",
    "    print(\"The query returned False: No movies with title and director information found.\")"
   ]
  },
  {
   "cell_type": "markdown",
   "metadata": {},
   "source": [
    "### Query 15 \n",
    "#### A query that contains a DESCRIBE query form"
   ]
  },
  {
   "cell_type": "code",
   "execution_count": 16,
   "metadata": {},
   "outputs": [
    {
     "name": "stdout",
     "output_type": "stream",
     "text": [
      "Subject: Movie1  Predicate: title  Object: Pulp Fiction \n",
      "------------------------\n",
      "Subject: Movie1  Predicate: language  Object: English \n",
      "------------------------\n",
      "Subject: Movie1  Predicate: hasWriter  Object: QuentinTarantino \n",
      "------------------------\n",
      "Subject: Movie1  Predicate: hasGenre  Object: Crime \n",
      "------------------------\n",
      "Subject: Movie1  Predicate: creator  Object: rana ahmed \n",
      "------------------------\n",
      "Subject: Movie1  Predicate: hasActor  Object: QuentinTarantino \n",
      "------------------------\n",
      "Subject: Movie1  Predicate: hasGenre  Object: Thriller \n",
      "------------------------\n",
      "Subject: Movie1  Predicate: country  Object: USA \n",
      "------------------------\n",
      "Subject: Movie1  Predicate: hasActor  Object: UmaThurman \n",
      "------------------------\n",
      "Subject: Movie1  Predicate: 22-rdf-syntax-ns#type  Object: owl#NamedIndividual \n",
      "------------------------\n",
      "Subject: Movie1  Predicate: hasDirector  Object: QuentinTarantino \n",
      "------------------------\n",
      "Subject: Movie1  Predicate: date  Object: 2024-05-03T11:40:43+00:00 \n",
      "------------------------\n",
      "Subject: Movie1  Predicate: year  Object: 1994 \n",
      "------------------------\n",
      "Subject: Movie1  Predicate: 22-rdf-syntax-ns#type  Object: Movie \n",
      "------------------------\n"
     ]
    }
   ],
   "source": [
    "from rdflib import Literal, URIRef\n",
    "# Define the resource URI for which you want to retrieve the description\n",
    "resource_uri = \"http://www.semanticweb.org/ranaahmed/ontologies/2024/4/Movei-Project/Movie1\"\n",
    "\n",
    "# Define and execute the DESCRIBE query\n",
    "query15 = f\"DESCRIBE <{resource_uri}>\"\n",
    "results15 = g.query(query15)\n",
    "\n",
    "# Iterate over the constructed triples and print the values\n",
    "for subject, predicate, obj in results15:\n",
    "    subject_name = subject.split(\"/\")[-1] if isinstance(subject, str) else subject\n",
    "    predicate_name = predicate.split(\"/\")[-1] if isinstance(predicate, str) else predicate\n",
    "    obj_name = obj.split(\"/\")[-1] if isinstance(obj, str) else obj\n",
    "    \n",
    "    print(f\"Subject: {subject_name} \",f\"Predicate: {predicate_name} \",f\"Object: {obj_name} \")\n",
    "    print(\"------------------------\")"
   ]
  },
  {
   "cell_type": "code",
   "execution_count": 17,
   "metadata": {},
   "outputs": [
    {
     "name": "stdout",
     "output_type": "stream",
     "text": [
      "Subject: BongJoonHo  Predicate: Actorof  Object: Movie9 \n",
      "------------------------\n",
      "Subject: BongJoonHo  Predicate: 22-rdf-syntax-ns#type  Object: owl#NamedIndividual \n",
      "------------------------\n",
      "Subject: BongJoonHo  Predicate: Directorof  Object: Movie9 \n",
      "------------------------\n",
      "Subject: BongJoonHo  Predicate: gender  Object: Male \n",
      "------------------------\n",
      "Subject: BongJoonHo  Predicate: 22-rdf-syntax-ns#type  Object: Actor \n",
      "------------------------\n",
      "Subject: BongJoonHo  Predicate: date  Object: 2024-05-03T13:32:44+00:00 \n",
      "------------------------\n",
      "Subject: BongJoonHo  Predicate: 22-rdf-syntax-ns#type  Object: Director \n",
      "------------------------\n",
      "Subject: BongJoonHo  Predicate: name  Object: Bong Joon-ho \n",
      "------------------------\n",
      "Subject: BongJoonHo  Predicate: nationality  Object: South Korean \n",
      "------------------------\n",
      "Subject: BongJoonHo  Predicate: Writerof  Object: Movie9 \n",
      "------------------------\n",
      "Subject: BongJoonHo  Predicate: 22-rdf-syntax-ns#type  Object: Writer \n",
      "------------------------\n",
      "Subject: BongJoonHo  Predicate: age  Object: 52 \n",
      "------------------------\n",
      "Subject: BongJoonHo  Predicate: creator  Object: rana ahmed \n",
      "------------------------\n"
     ]
    }
   ],
   "source": [
    "# Define the resource URI for which you want to retrieve the description\n",
    "resource_uri2 = \"http://www.semanticweb.org/ranaahmed/ontologies/2024/4/Movei-Project/BongJoonHo\"\n",
    "\n",
    "# Define and execute the DESCRIBE query\n",
    "queryd15 = f\"DESCRIBE <{resource_uri2}>\"\n",
    "resultsd15 = g.query(queryd15)\n",
    "\n",
    "# Iterate over the constructed triples and print the values\n",
    "for subject, predicate, obj in resultsd15:\n",
    "    subject_name = subject.split(\"/\")[-1] if isinstance(subject, str) else subject\n",
    "    predicate_name = predicate.split(\"/\")[-1] if isinstance(predicate, str) else predicate\n",
    "    obj_name = obj.split(\"/\")[-1] if isinstance(obj, str) else obj\n",
    "    \n",
    "    print(f\"Subject: {subject_name} \",f\"Predicate: {predicate_name} \",f\"Object: {obj_name} \")\n",
    "    print(\"------------------------\")"
   ]
  },
  {
   "cell_type": "markdown",
   "metadata": {},
   "source": [
    "### Query 16\n",
    "#### List of  movies that have either the genre \"Action\" or \"Thriller\""
   ]
  },
  {
   "cell_type": "code",
   "execution_count": 18,
   "metadata": {},
   "outputs": [
    {
     "name": "stdout",
     "output_type": "stream",
     "text": [
      "Movie instance: Movie1,  Title: Pulp Fiction,  Genre: Thriller.\n",
      "-----------------------\n",
      "Movie instance: Movie2,  Title: Kill Bill (volume 1),  Genre: Action.\n",
      "-----------------------\n",
      "Movie instance: Movie2,  Title: Kill Bill (volume 1),  Genre: Thriller.\n",
      "-----------------------\n",
      "Movie instance: Movie3,  Title: The Dark Knight,  Genre: Action.\n",
      "-----------------------\n",
      "Movie instance: Movie5,  Title: The Silence Of The Lambs,  Genre: Thriller.\n",
      "-----------------------\n",
      "Movie instance: Movie6,  Title: Heat,  Genre: Action.\n",
      "-----------------------\n",
      "Movie instance: Movie9,  Title: Parasite,  Genre: Thriller.\n",
      "-----------------------\n"
     ]
    }
   ],
   "source": [
    "\n",
    "# Define the SPARQL query string\n",
    "query16 = \"\"\"\n",
    "PREFIX rdf: <http://www.w3.org/1999/02/22-rdf-syntax-ns#>\n",
    "PREFIX movie: <http://www.semanticweb.org/ranaahmed/ontologies/2024/4/Movei-Project/>\n",
    "\n",
    "SELECT ?movie ?title ?genre\n",
    "WHERE {\n",
    "    ?movie rdf:type movie:Movie ;\n",
    "           movie:title ?title ;\n",
    "           movie:hasGenre ?genre .\n",
    "    FILTER (?genre = movie:Action || ?genre = movie:Thriller)\n",
    "}\n",
    "\"\"\"\n",
    "\n",
    "# execute the SPARQL query\n",
    "results16 = g.query(query16)\n",
    "\n",
    "# Iterate over the results and print them\n",
    "for row in results16:\n",
    "    movie_uri = row[\"movie\"]\n",
    "    movei_instance_name = movie_uri.split('/')[-1]\n",
    "    title = row[\"title\"]\n",
    "    genre = row[\"genre\"].split('/')[-1]\n",
    "    print(f\"Movie instance: {movei_instance_name}, \", f\"Title: {title}, \", f\"Genre: {genre}.\")\n",
    "    print(\"-----------------------\")\n"
   ]
  },
  {
   "cell_type": "markdown",
   "metadata": {},
   "source": [
    "### Query 17 \n",
    "#### Order moveis by years"
   ]
  },
  {
   "cell_type": "code",
   "execution_count": 19,
   "metadata": {},
   "outputs": [
    {
     "name": "stdout",
     "output_type": "stream",
     "text": [
      "List of moveis order by the year in descending order: \n",
      "Movie instance: Movie9, Title: Parasite, Year: 2019\n",
      "-----------------------\n",
      "Movie instance: Movie3, Title: The Dark Knight, Year: 2008\n",
      "-----------------------\n",
      "Movie instance: Movie2, Title: Kill Bill (volume 1), Year: 2003\n",
      "-----------------------\n",
      "Movie instance: Movie7, Title: Snatch, Year: 2000\n",
      "-----------------------\n",
      "Movie instance: Movie10, Title: Life Is Beautiful, Year: 1997\n",
      "-----------------------\n",
      "Movie instance: Movie6, Title: Heat, Year: 1995\n",
      "-----------------------\n",
      "Movie instance: Movie1, Title: Pulp Fiction, Year: 1994\n",
      "-----------------------\n",
      "Movie instance: Movie4, Title: FightClub, Year: 1994\n",
      "-----------------------\n",
      "Movie instance: Movie8, Title: Reservoir Dogs, Year: 1992\n",
      "-----------------------\n",
      "Movie instance: Movie5, Title: The Silence Of The Lambs, Year: 1991\n",
      "-----------------------\n"
     ]
    }
   ],
   "source": [
    "# Define the SELECT query\n",
    "query16 = \"\"\"\n",
    "PREFIX movie: <http://www.semanticweb.org/ranaahmed/ontologies/2024/4/Movei-Project/>\n",
    "\n",
    "SELECT ?movie ?title ?year\n",
    "WHERE {\n",
    "    ?movie rdf:type movie:Movie ;\n",
    "           movie:title ?title ;\n",
    "           movie:year ?year .\n",
    "}\n",
    "ORDER BY DESC(?year)\n",
    "\"\"\"\n",
    "\n",
    "# Execute the query\n",
    "results16 = g.query(query16)\n",
    "\n",
    "# Print the results\n",
    "print(\"List of moveis order by the year in descending order: \")\n",
    "# Iterate over the results and print them\n",
    "for row in results16:\n",
    "    movie_instance = row[\"movie\"].split('/')[-1]\n",
    "    title = row[\"title\"].split('/')[-1]\n",
    "    year = row[\"year\"].split('/')[-1]\n",
    "    print(f\"Movie instance: {movie_instance}, Title: {title}, Year: {year}\")\n",
    "    print(\"-----------------------\")\n"
   ]
  },
  {
   "cell_type": "markdown",
   "metadata": {},
   "source": [
    "### Query 18 \n",
    "#### List the count of movies for each genre."
   ]
  },
  {
   "cell_type": "code",
   "execution_count": 20,
   "metadata": {},
   "outputs": [
    {
     "name": "stdout",
     "output_type": "stream",
     "text": [
      "List count of moveis for each genre: \n",
      "Genre: Crime, Count: 7\n",
      "-----------------------\n",
      "Genre: Thriller, Count: 4\n",
      "-----------------------\n",
      "Genre: Comedy, Count: 3\n",
      "-----------------------\n",
      "Genre: Drama, Count: 7\n",
      "-----------------------\n",
      "Genre: Action, Count: 3\n",
      "-----------------------\n"
     ]
    }
   ],
   "source": [
    "# Define the SELECT query\n",
    "query18 = \"\"\"\n",
    "PREFIX movie: <http://www.semanticweb.org/ranaahmed/ontologies/2024/4/Movei-Project/>\n",
    "\n",
    "SELECT ?genre (COUNT(?movie) AS ?count)\n",
    "WHERE {\n",
    "    ?movie rdf:type movie:Movie ;\n",
    "           movie:hasGenre ?genre .\n",
    "}\n",
    "GROUP BY ?genre\n",
    "\"\"\"\n",
    "\n",
    "# Execute the query\n",
    "results18 = g.query(query18)\n",
    "\n",
    "# Iterate over the results and print them\n",
    "print(\"List count of moveis for each genre: \")\n",
    "for row in results18:\n",
    "    genre = row[\"genre\"].split('/')[-1]\n",
    "    count = row[\"count\"]\n",
    "    print(f\"Genre: {genre}, Count: {count}\")\n",
    "    print(\"-----------------------\")"
   ]
  },
  {
   "cell_type": "markdown",
   "metadata": {},
   "source": [
    "### Query 19 \n",
    "### List of information about movies and their language if exists "
   ]
  },
  {
   "cell_type": "code",
   "execution_count": 25,
   "metadata": {},
   "outputs": [
    {
     "name": "stdout",
     "output_type": "stream",
     "text": [
      "Movie Name: Movie1, Title: Pulp Fiction, Director: QuentinTarantino, Genre: Crime, Language: English\n",
      "Movie Name: Movie10, Title: Life Is Beautiful, Director: RobertoBenigni, Genre: Comedy, Language: Italian\n",
      "Movie Name: Movie2, Title: Kill Bill (volume 1), Director: QuentinTarantino, Genre: Action, Language: English\n",
      "Movie Name: Movie3, Title: The Dark Knight, Director: ChristopherNolan, Genre: Action, Language: English\n",
      "Movie Name: Movie4, Title: FightClub, Director: DavidFincher, Genre: Drama, Language: English\n",
      "Movie Name: Movie5, Title: The Silence Of The Lambs, Director: JonathanDemme, Genre: Crime, Language: English\n",
      "Movie Name: Movie6, Title: Heat, Director: MichaelMann, Genre: Action, Language: English\n",
      "Movie Name: Movie7, Title: Snatch, Director: GuyRitchie, Genre: Comedy, Language: English\n",
      "Movie Name: Movie8, Title: Reservoir Dogs, Director: QuentinTarantino, Genre: Crime, Language: English\n",
      "Movie Name: Movie9, Title: Parasite, Director: BongJoonHo, Genre: Comedy, Language: Korean\n"
     ]
    }
   ],
   "source": [
    "# Define the SPARQL query\n",
    "query19 = \"\"\"\n",
    "PREFIX rdf: <http://www.w3.org/1999/02/22-rdf-syntax-ns#>\n",
    "PREFIX movie: <http://www.semanticweb.org/ranaahmed/ontologies/2024/4/Movei-Project/>\n",
    "\n",
    "SELECT DISTINCT ?movie ?title ?director ?genre ?language\n",
    "WHERE {\n",
    "    ?movie rdf:type movie:Movie ;\n",
    "           movie:title ?title ;\n",
    "           movie:hasDirector ?director ;\n",
    "           movie:hasGenre ?genre .\n",
    "    OPTIONAL { ?movie movie:language ?language }\n",
    "}\n",
    "\"\"\"\n",
    "\n",
    "# Execute the query\n",
    "results19 = g.query(query19)\n",
    "movie_names = set()\n",
    "# Iterate over the results and print them\n",
    "for row in results19:\n",
    "    movie_name = row[\"movie\"].split(\"/\")[-1]\n",
    "    title = row[\"title\"].split(\"/\")[-1]\n",
    "    director = row[\"director\"].split(\"/\")[-1]\n",
    "    genre = row[\"genre\"].split(\"/\")[-1]\n",
    "    language = row[\"language\"].split(\"/\")[-1] if row[\"language\"] else \"Not specified\"\n",
    "    \n",
    "    # If movie name is not already printed, print all details\n",
    "    if movie_name not in movie_names:\n",
    "        print(f\"Movie Name: {movie_name}, Title: {title}, Director: {director}, Genre: {genre}, Language: {language}\")\n",
    "        movie_names.add(movie_name)\n",
    "    "
   ]
  },
  {
   "cell_type": "markdown",
   "metadata": {},
   "source": [
    "### Query 20 \n",
    "#### Lis the top 5 directors with the most movies and counts the number of movies each director has directed."
   ]
  },
  {
   "cell_type": "code",
   "execution_count": 26,
   "metadata": {},
   "outputs": [
    {
     "name": "stdout",
     "output_type": "stream",
     "text": [
      "Director: QuentinTarantino, Movie Count: 3\n",
      "Director: RobertoBenigni, Movie Count: 1\n",
      "Director: ChristopherNolan, Movie Count: 1\n",
      "Director: DavidFincher, Movie Count: 1\n",
      "Director: JonathanDemme, Movie Count: 1\n"
     ]
    }
   ],
   "source": [
    "# Define the SPARQL query\n",
    "query20 =  \"\"\"\n",
    "PREFIX rdf: <http://www.w3.org/1999/02/22-rdf-syntax-ns#>\n",
    "PREFIX movie: <http://www.semanticweb.org/ranaahmed/ontologies/2024/4/Movei-Project/>\n",
    "\n",
    "SELECT ?director (COUNT(?movie) AS ?movieCount)\n",
    "WHERE {\n",
    "    ?movie rdf:type movie:Movie ;\n",
    "           movie:hasDirector ?director .\n",
    "}\n",
    "GROUP BY ?director\n",
    "ORDER BY DESC(?movieCount)\n",
    "LIMIT 5\n",
    "\"\"\"\n",
    "\n",
    "# Execute the query\n",
    "results20 = g.query(query20)\n",
    "\n",
    "# Iterate over the results and print them\n",
    "for row in results20:\n",
    "    director = row[\"director\"].split(\"/\")[-1]\n",
    "    movie_count = row[\"movieCount\"]\n",
    "    print(f\"Director: {director}, Movie Count: {movie_count}\")\n"
   ]
  },
  {
   "cell_type": "code",
   "execution_count": null,
   "metadata": {},
   "outputs": [],
   "source": []
  }
 ],
 "metadata": {
  "kernelspec": {
   "display_name": "Python 3",
   "language": "python",
   "name": "python3"
  },
  "language_info": {
   "codemirror_mode": {
    "name": "ipython",
    "version": 3
   },
   "file_extension": ".py",
   "mimetype": "text/x-python",
   "name": "python",
   "nbconvert_exporter": "python",
   "pygments_lexer": "ipython3",
   "version": "3.11.0"
  }
 },
 "nbformat": 4,
 "nbformat_minor": 2
}
