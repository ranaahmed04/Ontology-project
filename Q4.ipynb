{
 "cells": [
  {
   "cell_type": "code",
   "execution_count": 1,
   "metadata": {},
   "outputs": [],
   "source": [
    "from rdflib import Graph, Namespace"
   ]
  },
  {
   "cell_type": "code",
   "execution_count": 4,
   "metadata": {},
   "outputs": [
    {
     "name": "stdout",
     "output_type": "stream",
     "text": [
      "Title: Snatch\n",
      "Year: 2000\n",
      "Country: UK\n",
      "Director: GuyRitchie\n",
      "Writer: GuyRitchie\n",
      "Genres: Comedy, Crime\n",
      "Actors: BradPitt\n"
     ]
    }
   ],
   "source": [
    "def get_movie_info(movie_title):\n",
    "    # Load the ontology file\n",
    "    g = Graph()\n",
    "    g.parse(r\"FinalNewRdfXml.rdf\")\n",
    "\n",
    "    # Define the namespace\n",
    "    ex = Namespace(\"http://www.semanticweb.org/ranaahmed/ontologies/2024/4/Movei-Project\")\n",
    "\n",
    "    # Query the ontology for the movie and its associated entities\n",
    "    query = f\"\"\"\n",
    "    PREFIX ex: <http://www.semanticweb.org/ranaahmed/ontologies/2024/4/Movei-Project/>\n",
    "    SELECT DISTINCT ?title ?actor ?director ?writer ?year ?country ?genre\n",
    "    WHERE {{\n",
    "        ?movie rdf:type ex:Movie ;\n",
    "               ex:title ?title .\n",
    "        FILTER (str(?title) = \"{movie_title}\")\n",
    "        OPTIONAL {{ ?movie ex:year ?year }}\n",
    "        OPTIONAL {{ ?movie ex:country ?country }}\n",
    "        OPTIONAL {{ ?movie ex:hasGenre ?genre }}\n",
    "        OPTIONAL {{ ?movie ex:hasActor ?actor }}\n",
    "        OPTIONAL {{ ?movie ex:hasDirector ?director }}\n",
    "        OPTIONAL {{ ?movie ex:hasWriter ?writer }}\n",
    "    }}\n",
    "    \"\"\"\n",
    "    results = g.query(query, initNs={\"ex\": ex})\n",
    "\n",
    "    # Check if the movie exists\n",
    "    if len(results) == 0:\n",
    "        print(\"Error: Movie not found.\")\n",
    "    else:\n",
    "        # Keep track of printed movie details\n",
    "        printed_movie = False\n",
    "\n",
    "        # Store genres and actors\n",
    "        genres = set()\n",
    "        actors = set()\n",
    "\n",
    "        # Display information\n",
    "        for row in results:\n",
    "            title = row.title\n",
    "            year = row.year.split('/')[-1]\n",
    "            country = row.country.split('/')[-1]\n",
    "            actor = row.actor.split('/')[-1]\n",
    "            director = row.director.split('/')[-1]\n",
    "            writer = row.writer.split('/')[-1]\n",
    "            genre = row.genre.split('/')[-1]\n",
    "\n",
    "            # Print movie information only once\n",
    "            if not printed_movie:\n",
    "                printed_movie = True\n",
    "                \n",
    "                print(\"Title:\", title)\n",
    "                print(\"Year:\", year)\n",
    "                print(\"Country:\", country)\n",
    "                print(\"Director:\", director)\n",
    "                print(\"Writer:\", writer)\n",
    "\n",
    "            # Add genres to the set\n",
    "            if isinstance(genre, str):\n",
    "                genres.add(genre)\n",
    "            else:\n",
    "                for g in genre:\n",
    "                    genres.add(g)\n",
    "\n",
    "            # Add actors to the set\n",
    "            if isinstance(actor, str):\n",
    "                actors.add(actor)\n",
    "            else:\n",
    "                for a in actor:\n",
    "                    actors.add(a)\n",
    "\n",
    "        # Print genres and actors\n",
    "        print(\"Genres:\", ', '.join(genres))  # Print genres as a comma-separated list\n",
    "        print(\"Actors:\", ', '.join(actors))  # Print actors as a comma-separated list\n",
    "\n",
    "movie_title = input(\"Enter the title of the movie: \")\n",
    "get_movie_info(movie_title)"
   ]
  },
  {
   "cell_type": "code",
   "execution_count": null,
   "metadata": {},
   "outputs": [],
   "source": []
  }
 ],
 "metadata": {
  "kernelspec": {
   "display_name": "Python 3",
   "language": "python",
   "name": "python3"
  },
  "language_info": {
   "codemirror_mode": {
    "name": "ipython",
    "version": 3
   },
   "file_extension": ".py",
   "mimetype": "text/x-python",
   "name": "python",
   "nbconvert_exporter": "python",
   "pygments_lexer": "ipython3",
   "version": "3.11.0"
  }
 },
 "nbformat": 4,
 "nbformat_minor": 2
}
