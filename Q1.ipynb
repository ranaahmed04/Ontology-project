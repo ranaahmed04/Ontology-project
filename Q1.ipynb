{
 "cells": [
  {
   "cell_type": "markdown",
   "metadata": {},
   "source": [
    "### Q1 Create a java program (Jena1.java) that loads the ontology and displays all the Persons (without using queries, without inference)."
   ]
  },
  {
   "cell_type": "code",
   "execution_count": 2,
   "metadata": {},
   "outputs": [
    {
     "name": "stdout",
     "output_type": "stream",
     "text": [
      "Person is a subclass of Person\n",
      "Actor is a subclass of Person\n",
      "  - AlPacino\n",
      "  - AnthonyHopkins\n",
      "  - BongJoonHo\n",
      "  - BradPitt\n",
      "  - ChristianBale\n",
      "  - DavidFincher\n",
      "  - HarveyKeitel\n",
      "  - JohnTravolta\n",
      "  - QuentinTarantino\n",
      "  - RobertoBenigni\n",
      "  - UmaThurman\n",
      "Director is a subclass of Person\n",
      "  - BongJoonHo\n",
      "  - ChristopherNolan\n",
      "  - DavidFincher\n",
      "  - GuyRitchie\n",
      "  - JonathanDemme\n",
      "  - MichaelMann\n",
      "  - QuentinTarantino\n",
      "  - RobertoBenigni\n",
      "Writer is a subclass of Person\n",
      "  - BongJoonHo\n",
      "  - ChristopherNolan\n",
      "  - ChuckPalahniuk\n",
      "  - GuyRitchie\n",
      "  - JonathanDemme\n",
      "  - MichaelMann\n",
      "  - NicolaPiovani\n",
      "  - QuentinTarantino\n",
      "  - UmaThurman\n",
      "Number of triples in graph: 533\n"
     ]
    }
   ],
   "source": [
    "from rdflib import RDF, Graph, Namespace, URIRef\n",
    "from rdflib.namespace import RDFS\n",
    "\n",
    "# Load the ontology\n",
    "g = Graph()\n",
    "g.parse(\"FinalNewRdfXml.rdf\", format=\"xml\")\n",
    "\n",
    "\n",
    "# Define the URI for the Person class\n",
    "PERSON=URIRef(\"http://www.semanticweb.org/ranaahmed/ontologies/2024/4/Movei-Project/Person\")\n",
    "\n",
    "# Iterate through individuals of Person class\n",
    "subclasses_of_person = list(g.transitive_subjects(RDFS.subClassOf, PERSON))\n",
    "\n",
    "for subclass in subclasses_of_person:\n",
    "    subclass_without_uri= subclass.split(\"/\")[-1]\n",
    "    print(\"%s is a subclass of Person\" % subclass_without_uri)\n",
    "    instances = [subj for subj, _, _ in g.triples((None, RDF.type, subclass))]\n",
    "    for instance in instances:\n",
    "        newinst= instance.split(\"/\")[-1]\n",
    "        print(\"  - %s\" % newinst)\n",
    "        # print (len(person))\n",
    "print(\"Number of triples in graph:\", len(g))\n",
    "\n"
   ]
  },
  {
   "cell_type": "code",
   "execution_count": null,
   "metadata": {},
   "outputs": [],
   "source": []
  }
 ],
 "metadata": {
  "kernelspec": {
   "display_name": "Python 3",
   "language": "python",
   "name": "python3"
  },
  "language_info": {
   "codemirror_mode": {
    "name": "ipython",
    "version": 3
   },
   "file_extension": ".py",
   "mimetype": "text/x-python",
   "name": "python",
   "nbconvert_exporter": "python",
   "pygments_lexer": "ipython3",
   "version": "3.11.0"
  }
 },
 "nbformat": 4,
 "nbformat_minor": 2
}
